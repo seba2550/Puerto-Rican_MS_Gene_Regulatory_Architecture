{
 "cells": [
  {
   "cell_type": "markdown",
   "metadata": {},
   "source": [
    "## This is a notebook that will document my attempts to load the BED format output files from HMMRATAC into a PostgreSQL database. Wish me luck. "
   ]
  },
  {
   "cell_type": "markdown",
   "metadata": {},
   "source": [
    "I first had to install the psycopg2 python library. The regular one described in the tutorial Will sent me wasn't working (problems with a PATH variable, it was too much of a hassle for me), but the developers suggested just downloading the binary version. Which I just did."
   ]
  },
  {
   "cell_type": "code",
   "execution_count": 2,
   "metadata": {},
   "outputs": [
    {
     "name": "stdout",
     "output_type": "stream",
     "text": [
      "Collecting psycopg2-binary\n",
      "\u001b[?25l  Downloading https://files.pythonhosted.org/packages/6d/45/c519a5cfac05e14b1ccb242138915855293199840598e087b935ba1d86bc/psycopg2_binary-2.8.6-cp37-cp37m-manylinux1_x86_64.whl (3.0MB)\n",
      "\u001b[K     |████████████████████████████████| 3.0MB 7.3MB/s eta 0:00:01\n",
      "\u001b[?25hInstalling collected packages: psycopg2-binary\n",
      "Successfully installed psycopg2-binary-2.8.6\n",
      "Note: you may need to restart the kernel to use updated packages.\n"
     ]
    }
   ],
   "source": [
    "pip install psycopg2-binary"
   ]
  },
  {
   "cell_type": "code",
   "execution_count": 3,
   "metadata": {},
   "outputs": [
    {
     "name": "stdout",
     "output_type": "stream",
     "text": [
      "Collecting config\n",
      "  Downloading https://files.pythonhosted.org/packages/67/af/a7c8be986afee4cf277045cfdb06605296ff3f1a1de415d62c18a7a33040/config-0.5.0.post0-py2.py3-none-any.whl\n",
      "Installing collected packages: config\n",
      "Successfully installed config-0.5.0.post0\n",
      "Note: you may need to restart the kernel to use updated packages.\n"
     ]
    }
   ],
   "source": [
    "pip install config"
   ]
  },
  {
   "cell_type": "code",
   "execution_count": 4,
   "metadata": {},
   "outputs": [],
   "source": [
    "import psycopg2 as pg\n",
    "import os\n",
    "import glob"
   ]
  },
  {
   "cell_type": "markdown",
   "metadata": {},
   "source": [
    "This next step is used to connect to the PQHS451 course database. All four parameters are necessary to create the connection object."
   ]
  },
  {
   "cell_type": "code",
   "execution_count": 5,
   "metadata": {},
   "outputs": [],
   "source": [
    "conn = pg.connect(\n",
    "    host = \"wbush.case.edu\",\n",
    "    database = \"pqhs451\",\n",
    "    user = \"sxc1506\",\n",
    "    password = \"dataiscool#451\")"
   ]
  },
  {
   "cell_type": "markdown",
   "metadata": {},
   "source": [
    "Let's check the \"type\" of the created object to be sure we got things right. This function should tell us that \"conn\" is a connection object."
   ]
  },
  {
   "cell_type": "code",
   "execution_count": 6,
   "metadata": {},
   "outputs": [
    {
     "data": {
      "text/plain": [
       "psycopg2.extensions.connection"
      ]
     },
     "execution_count": 6,
     "metadata": {},
     "output_type": "execute_result"
    }
   ],
   "source": [
    "type(conn)"
   ]
  },
  {
   "cell_type": "markdown",
   "metadata": {},
   "source": [
    "This creates a cursor based off the connection object. This is what I'll actually use to execute queries."
   ]
  },
  {
   "cell_type": "code",
   "execution_count": 7,
   "metadata": {},
   "outputs": [],
   "source": [
    "cur = conn.cursor()"
   ]
  },
  {
   "cell_type": "markdown",
   "metadata": {},
   "source": [
    "Here's a function I borrowed from the tutorial Will gave me (a slightly modified version of it) that performs an actual query."
   ]
  },
  {
   "cell_type": "code",
   "execution_count": null,
   "metadata": {},
   "outputs": [],
   "source": [
    "def get_variants():\n",
    "    \"\"\" Query data from the 1K Genomes Variants table \"\"\"\n",
    "    conn = None\n",
    "    try:\n",
    "        conn = pg.connect(\n",
    "            host = \"wbush.case.edu\",\n",
    "            database = \"pqhs451\",\n",
    "            user = \"sxc1506\",\n",
    "            password = \"dataiscool#451\")\n",
    "        cur = conn.cursor()\n",
    "        cur.execute(\"SELECT * FROM k_genomes_variants LIMIT 100 \")\n",
    "        print(\"These are the first 100 variants in the dataset: \", cur.rowcount)\n",
    "        row = cur.fetchone()\n",
    "\n",
    "        while row is not None:\n",
    "            print(row)\n",
    "            row = cur.fetchone()\n",
    "\n",
    "        cur.close()\n",
    "    except (Exception, pg.DatabaseError) as error:\n",
    "        print(error)\n",
    "    finally:\n",
    "        if conn is not None:\n",
    "            conn.close()"
   ]
  },
  {
   "cell_type": "code",
   "execution_count": null,
   "metadata": {},
   "outputs": [],
   "source": [
    "if __name__ == '__main__':\n",
    "    get_variants()"
   ]
  },
  {
   "cell_type": "markdown",
   "metadata": {},
   "source": [
    "### So, I've shown that I know how to perform a basic PostgreSQL query using the psycopg2 package in Python. Now the fun begins, and I can go about loading the peak-calling output into a database to further query it from inside this Jupyter Notebook."
   ]
  },
  {
   "cell_type": "markdown",
   "metadata": {},
   "source": [
    "First, change into the directory on Aneris-Dev that has all the peak-calling outputs. NOTE: You have to use a percentage sign to actually use bash syntax and have the command take effect. I tried using an exclamation mark before but it would just change the directory back everytime. This solution is permanent."
   ]
  },
  {
   "cell_type": "code",
   "execution_count": 8,
   "metadata": {},
   "outputs": [
    {
     "name": "stdout",
     "output_type": "stream",
     "text": [
      "/storage/atac_data/original_data/wBush_RNA_ATAC_fastqs/ATACseq_set2/peak_calling/cleaned_bamfiles_peak_calling\n"
     ]
    }
   ],
   "source": [
    "%cd /storage/atac_data/original_data/wBush_RNA_ATAC_fastqs/ATACseq_set2/peak_calling/cleaned_bamfiles_peak_calling"
   ]
  },
  {
   "cell_type": "code",
   "execution_count": 9,
   "metadata": {},
   "outputs": [],
   "source": [
    "from configparser import ConfigParser\n",
    "\n",
    "\n",
    "def my_config(filename='/storage/atac_data/original_data/wBush_RNA_ATAC_fastqs/ATACseq_set2/peak_calling/cleaned_bamfiles_peak_calling/database.ini', section='postgresql'):  #database.ini is the configuration file I created and deposited within the current directory\n",
    "    # create a parser\n",
    "    parser = ConfigParser()\n",
    "    # read config file\n",
    "    parser.read(filename)\n",
    "\n",
    "    # get section, default to postgresql\n",
    "    db = {}\n",
    "    if parser.has_section(section):\n",
    "        params = parser.items(section)\n",
    "        for param in params:\n",
    "            db[param[0]] = param[1]\n",
    "    else:\n",
    "        raise Exception('Section {0} not found in the {1} file'.format(section, filename))\n",
    "\n",
    "    return db"
   ]
  },
  {
   "cell_type": "code",
   "execution_count": 29,
   "metadata": {},
   "outputs": [],
   "source": [
    "def create_tables():  #Avoid \"-\" in table names. Won't work.\n",
    "    \"\"\" create tables in the PostgreSQL database\"\"\"\n",
    "    commands = (\n",
    "        \"\"\"\n",
    "        CREATE TABLE wBush_ATACseqset2_201816338_01_S_6_1_peaks (\n",
    "            chrom_name TEXT NOT NULL,\n",
    "            peak_start NUMERIC NOT NULL,\n",
    "            peak_end NUMERIC NOT NULL,\n",
    "            peak_name TEXT NOT NULL,\n",
    "            unused TEXT NOT NULL,\n",
    "            unused_2 TEXT NOT NULL,\n",
    "            open_state_start NUMERIC NOT NULL,\n",
    "            open_state_end NUMERIC NOT NULL,\n",
    "            color_code TEXT NOT NULL,\n",
    "            num_subregions NUMERIC NOT NULL,\n",
    "            subregion_lengths TEXT NOT NULL,\n",
    "            subregion_starts TEXT NOT NULL,\n",
    "            peak_score NUMERIC NOT NULL,\n",
    "            unused_3 NUMERIC NOT NULL,\n",
    "            unused_4 NUMERIC NOT NULL\n",
    "        )\n",
    "        \"\"\",\n",
    "        \"\"\"\n",
    "        CREATE TABLE wBush_ATACseqset2_201816339_01_S_6_1_peaks (\n",
    "            chrom_name TEXT NOT NULL,\n",
    "            peak_start NUMERIC NOT NULL,\n",
    "            peak_end NUMERIC NOT NULL,\n",
    "            peak_name TEXT NOT NULL,\n",
    "            unused TEXT NOT NULL,\n",
    "            unused_2 TEXT NOT NULL,\n",
    "            open_state_start NUMERIC NOT NULL,\n",
    "            open_state_end NUMERIC NOT NULL,\n",
    "            color_code TEXT NOT NULL,\n",
    "            num_subregions NUMERIC NOT NULL,\n",
    "            subregion_lengths TEXT NOT NULL,\n",
    "            subregion_starts TEXT NOT NULL,\n",
    "            peak_score NUMERIC NOT NULL,\n",
    "            unused_3 NUMERIC NOT NULL,\n",
    "            unused_4 NUMERIC NOT NULL\n",
    "        )\n",
    "        \"\"\",\n",
    "        \"\"\"\n",
    "        CREATE TABLE wBush_ATACseqset2_201816340_01_S_6_1_peaks (\n",
    "            chrom_name TEXT NOT NULL,\n",
    "            peak_start NUMERIC NOT NULL,\n",
    "            peak_end NUMERIC NOT NULL,\n",
    "            peak_name TEXT NOT NULL,\n",
    "            unused TEXT NOT NULL,\n",
    "            unused_2 TEXT NOT NULL,\n",
    "            open_state_start NUMERIC NOT NULL,\n",
    "            open_state_end NUMERIC NOT NULL,\n",
    "            color_code TEXT NOT NULL,\n",
    "            num_subregions NUMERIC NOT NULL,\n",
    "            subregion_lengths TEXT NOT NULL,\n",
    "            subregion_starts TEXT NOT NULL,\n",
    "            peak_score NUMERIC NOT NULL,\n",
    "            unused_3 NUMERIC NOT NULL,\n",
    "            unused_4 NUMERIC NOT NULL\n",
    "        )\n",
    "        \"\"\",\n",
    "        \"\"\"\n",
    "        CREATE TABLE wBush_ATACseqset2_201816341_01_S_6_1_peaks (\n",
    "            chrom_name TEXT NOT NULL,\n",
    "            peak_start NUMERIC NOT NULL,\n",
    "            peak_end NUMERIC NOT NULL,\n",
    "            peak_name TEXT NOT NULL,\n",
    "            unused TEXT NOT NULL,\n",
    "            unused_2 TEXT NOT NULL,\n",
    "            open_state_start NUMERIC NOT NULL,\n",
    "            open_state_end NUMERIC NOT NULL,\n",
    "            color_code TEXT NOT NULL,\n",
    "            num_subregions NUMERIC NOT NULL,\n",
    "            subregion_lengths TEXT NOT NULL,\n",
    "            subregion_starts TEXT NOT NULL,\n",
    "            peak_score NUMERIC NOT NULL,\n",
    "            unused_3 NUMERIC NOT NULL,\n",
    "            unused_4 NUMERIC NOT NULL\n",
    "        )\n",
    "        \"\"\",\n",
    "        \"\"\"\n",
    "        CREATE TABLE wBush_ATACseqset2_201816342_01_S_6_1_peaks (\n",
    "            chrom_name TEXT NOT NULL,\n",
    "            peak_start NUMERIC NOT NULL,\n",
    "            peak_end NUMERIC NOT NULL,\n",
    "            peak_name TEXT NOT NULL,\n",
    "            unused TEXT NOT NULL,\n",
    "            unused_2 TEXT NOT NULL,\n",
    "            open_state_start NUMERIC NOT NULL,\n",
    "            open_state_end NUMERIC NOT NULL,\n",
    "            color_code TEXT NOT NULL,\n",
    "            num_subregions NUMERIC NOT NULL,\n",
    "            subregion_lengths TEXT NOT NULL,\n",
    "            subregion_starts TEXT NOT NULL,\n",
    "            peak_score NUMERIC NOT NULL,\n",
    "            unused_3 NUMERIC NOT NULL,\n",
    "            unused_4 NUMERIC NOT NULL\n",
    "        )\n",
    "        \"\"\",\n",
    "        \"\"\"\n",
    "        CREATE TABLE wBush_ATACseqset2_201816343_01_S_6_1_peaks (\n",
    "            chrom_name TEXT NOT NULL,\n",
    "            peak_start NUMERIC NOT NULL,\n",
    "            peak_end NUMERIC NOT NULL,\n",
    "            peak_name TEXT NOT NULL,\n",
    "            unused TEXT NOT NULL,\n",
    "            unused_2 TEXT NOT NULL,\n",
    "            open_state_start NUMERIC NOT NULL,\n",
    "            open_state_end NUMERIC NOT NULL,\n",
    "            color_code TEXT NOT NULL,\n",
    "            num_subregions NUMERIC NOT NULL,\n",
    "            subregion_lengths TEXT NOT NULL,\n",
    "            subregion_starts TEXT NOT NULL,\n",
    "            peak_score NUMERIC NOT NULL,\n",
    "            unused_3 NUMERIC NOT NULL,\n",
    "            unused_4 NUMERIC NOT NULL\n",
    "        )\n",
    "        \"\"\",\n",
    "        \"\"\"\n",
    "        CREATE TABLE wBush_ATACseqset2_201816344_01_S_6_1_peaks (\n",
    "            chrom_name TEXT NOT NULL,\n",
    "            peak_start NUMERIC NOT NULL,\n",
    "            peak_end NUMERIC NOT NULL,\n",
    "            peak_name TEXT NOT NULL,\n",
    "            unused TEXT NOT NULL,\n",
    "            unused_2 TEXT NOT NULL,\n",
    "            open_state_start NUMERIC NOT NULL,\n",
    "            open_state_end NUMERIC NOT NULL,\n",
    "            color_code TEXT NOT NULL,\n",
    "            num_subregions NUMERIC NOT NULL,\n",
    "            subregion_lengths TEXT NOT NULL,\n",
    "            subregion_starts TEXT NOT NULL,\n",
    "            peak_score NUMERIC NOT NULL,\n",
    "            unused_3 NUMERIC NOT NULL,\n",
    "            unused_4 NUMERIC NOT NULL\n",
    "        )\n",
    "        \"\"\",\n",
    "        \"\"\"\n",
    "        CREATE TABLE wBush_ATACseqset2_201816345_01_S_6_1_peaks (\n",
    "            chrom_name TEXT NOT NULL,\n",
    "            peak_start NUMERIC NOT NULL,\n",
    "            peak_end NUMERIC NOT NULL,\n",
    "            peak_name TEXT NOT NULL,\n",
    "            unused TEXT NOT NULL,\n",
    "            unused_2 TEXT NOT NULL,\n",
    "            open_state_start NUMERIC NOT NULL,\n",
    "            open_state_end NUMERIC NOT NULL,\n",
    "            color_code TEXT NOT NULL,\n",
    "            num_subregions NUMERIC NOT NULL,\n",
    "            subregion_lengths TEXT NOT NULL,\n",
    "            subregion_starts TEXT NOT NULL,\n",
    "            peak_score NUMERIC NOT NULL,\n",
    "            unused_3 NUMERIC NOT NULL,\n",
    "            unused_4 NUMERIC NOT NULL\n",
    "        )\n",
    "        \"\"\",\n",
    "        \"\"\"\n",
    "        CREATE TABLE wBush_ATACseqset2_201816346_01_S_6_1_peaks (\n",
    "            chrom_name TEXT NOT NULL,\n",
    "            peak_start NUMERIC NOT NULL,\n",
    "            peak_end NUMERIC NOT NULL,\n",
    "            peak_name TEXT NOT NULL,\n",
    "            unused TEXT NOT NULL,\n",
    "            unused_2 TEXT NOT NULL,\n",
    "            open_state_start NUMERIC NOT NULL,\n",
    "            open_state_end NUMERIC NOT NULL,\n",
    "            color_code TEXT NOT NULL,\n",
    "            num_subregions NUMERIC NOT NULL,\n",
    "            subregion_lengths TEXT NOT NULL,\n",
    "            subregion_starts TEXT NOT NULL,\n",
    "            peak_score NUMERIC NOT NULL,\n",
    "            unused_3 NUMERIC NOT NULL,\n",
    "            unused_4 NUMERIC NOT NULL\n",
    "        )\n",
    "        \"\"\",\n",
    "        \"\"\"\n",
    "        CREATE TABLE wBush_ATACseqset2_201816347_01_S_6_1_peaks (\n",
    "            chrom_name TEXT NOT NULL,\n",
    "            peak_start NUMERIC NOT NULL,\n",
    "            peak_end NUMERIC NOT NULL,\n",
    "            peak_name TEXT NOT NULL,\n",
    "            unused TEXT NOT NULL,\n",
    "            unused_2 TEXT NOT NULL,\n",
    "            open_state_start NUMERIC NOT NULL,\n",
    "            open_state_end NUMERIC NOT NULL,\n",
    "            color_code TEXT NOT NULL,\n",
    "            num_subregions NUMERIC NOT NULL,\n",
    "            subregion_lengths TEXT NOT NULL,\n",
    "            subregion_starts TEXT NOT NULL,\n",
    "            peak_score NUMERIC NOT NULL,\n",
    "            unused_3 NUMERIC NOT NULL,\n",
    "            unused_4 NUMERIC NOT NULL\n",
    "        )\n",
    "        \"\"\",\n",
    "        \"\"\"\n",
    "        CREATE TABLE wBush_ATACseqset2_201816348_01_S_6_1_peaks (\n",
    "            chrom_name TEXT NOT NULL,\n",
    "            peak_start NUMERIC NOT NULL,\n",
    "            peak_end NUMERIC NOT NULL,\n",
    "            peak_name TEXT NOT NULL,\n",
    "            unused TEXT NOT NULL,\n",
    "            unused_2 TEXT NOT NULL,\n",
    "            open_state_start NUMERIC NOT NULL,\n",
    "            open_state_end NUMERIC NOT NULL,\n",
    "            color_code TEXT NOT NULL,\n",
    "            num_subregions NUMERIC NOT NULL,\n",
    "            subregion_lengths TEXT NOT NULL,\n",
    "            subregion_starts TEXT NOT NULL,\n",
    "            peak_score NUMERIC NOT NULL,\n",
    "            unused_3 NUMERIC NOT NULL,\n",
    "            unused_4 NUMERIC NOT NULL\n",
    "        )\n",
    "        \"\"\",\n",
    "        \"\"\"\n",
    "        CREATE TABLE wBush_ATACseqset2_201816349_01_S_6_1_peaks (\n",
    "            chrom_name TEXT NOT NULL,\n",
    "            peak_start NUMERIC NOT NULL,\n",
    "            peak_end NUMERIC NOT NULL,\n",
    "            peak_name TEXT NOT NULL,\n",
    "            unused TEXT NOT NULL,\n",
    "            unused_2 TEXT NOT NULL,\n",
    "            open_state_start NUMERIC NOT NULL,\n",
    "            open_state_end NUMERIC NOT NULL,\n",
    "            color_code TEXT NOT NULL,\n",
    "            num_subregions NUMERIC NOT NULL,\n",
    "            subregion_lengths TEXT NOT NULL,\n",
    "            subregion_starts TEXT NOT NULL,\n",
    "            peak_score NUMERIC NOT NULL,\n",
    "            unused_3 NUMERIC NOT NULL,\n",
    "            unused_4 NUMERIC NOT NULL\n",
    "        )\n",
    "        \"\"\",\n",
    "        \"\"\"\n",
    "        CREATE TABLE wBush_ATACseqset2_201816350_01_S_6_1_peaks (\n",
    "            chrom_name TEXT NOT NULL,\n",
    "            peak_start NUMERIC NOT NULL,\n",
    "            peak_end NUMERIC NOT NULL,\n",
    "            peak_name TEXT NOT NULL,\n",
    "            unused TEXT NOT NULL,\n",
    "            unused_2 TEXT NOT NULL,\n",
    "            open_state_start NUMERIC NOT NULL,\n",
    "            open_state_end NUMERIC NOT NULL,\n",
    "            color_code TEXT NOT NULL,\n",
    "            num_subregions NUMERIC NOT NULL,\n",
    "            subregion_lengths TEXT NOT NULL,\n",
    "            subregion_starts TEXT NOT NULL,\n",
    "            peak_score NUMERIC NOT NULL,\n",
    "            unused_3 NUMERIC NOT NULL,\n",
    "            unused_4 NUMERIC NOT NULL\n",
    "        )\n",
    "        \"\"\",\n",
    "        \"\"\"\n",
    "        CREATE TABLE wBush_ATACseqset2_201816352_01_S_6_1_peaks (\n",
    "            chrom_name TEXT NOT NULL,\n",
    "            peak_start NUMERIC NOT NULL,\n",
    "            peak_end NUMERIC NOT NULL,\n",
    "            peak_name TEXT NOT NULL,\n",
    "            unused TEXT NOT NULL,\n",
    "            unused_2 TEXT NOT NULL,\n",
    "            open_state_start NUMERIC NOT NULL,\n",
    "            open_state_end NUMERIC NOT NULL,\n",
    "            color_code TEXT NOT NULL,\n",
    "            num_subregions NUMERIC NOT NULL,\n",
    "            subregion_lengths TEXT NOT NULL,\n",
    "            subregion_starts TEXT NOT NULL,\n",
    "            peak_score NUMERIC NOT NULL,\n",
    "            unused_3 NUMERIC NOT NULL,\n",
    "            unused_4 NUMERIC NOT NULL\n",
    "        )\n",
    "        \"\"\",\n",
    "        \"\"\"\n",
    "        CREATE TABLE RNAseq_Counts (\n",
    "            Symbol TEXT NOT NULL,\n",
    "            \"MS_bushRNA1_201702651.22_10ng\" TEXT NOT NULL,\n",
    "            \"MS_bushRNA1_201702651.22_1ng\" TEXT NOT NULL,\n",
    "            \"MS_bushRNA1_201702651.22\" TEXT NOT NULL,\n",
    "            \"MS_bushRNA1_201702657.22_10ng\" TEXT NOT NULL,\n",
    "            \"MS_bushRNA1_201702657.22_1ng\" TEXT NOT NULL,\n",
    "            \"MS_bushRNA1_201702657.22\" TEXT NOT NULL,\n",
    "            \"MS_bushRNA1_201702658.22_10ng\" TEXT NOT NULL,\n",
    "            \"MS_bushRNA1_201702658.22_1ng\" TEXT NOT NULL,\n",
    "            \"MS_bushRNA1_201702658.22\" TEXT NOT NULL,\n",
    "            \"MS_bushRNA1_201702660.22_10ng\" TEXT NOT NULL,\n",
    "            \"MS_bushRNA1_201702660.22_1ng\" TEXT NOT NULL,\n",
    "            \"MS_bushRNA1_201702660.22\" TEXT NOT NULL,\n",
    "            \"MS_bushRNA1_201702667.22_10ng\" TEXT NOT NULL,\n",
    "            \"MS_bushRNA1_201702667.22_1ng\" TEXT NOT NULL,\n",
    "            \"MS_bushRNA1_201702667.22\" TEXT NOT NULL,\n",
    "            \"MS_bushRNA1_201702668.22_10ng\" TEXT NOT NULL,\n",
    "            \"MS_bushRNA1_201702668.22_1ng\" TEXT NOT NULL,\n",
    "            \"MS_bushRNA1_201702668.22\" TEXT NOT NULL,\n",
    "            \"MS_bushRNA1_201706969.01\" TEXT NOT NULL,\n",
    "            \"MS_bushRNA1_201706970.01_10ng\" TEXT NOT NULL,\n",
    "            \"MS_bushRNA1_201706970.01_1ng\" TEXT NOT NULL,\n",
    "            \"MS_bushRNA1_201706970.01a\" TEXT NOT NULL,\n",
    "            \"MS_bushRNA1_201706971.01\" TEXT NOT NULL,\n",
    "            \"wBush_RNASeqset2_201702645.19\" TEXT NOT NULL,\n",
    "            \"wBush_RNASeqset2_201702652.19\" TEXT NOT NULL,\n",
    "            \"wBush_RNASeqset2_201702653.19\" TEXT NOT NULL,\n",
    "            \"wBush_RNASeqset2_201702662.19\" TEXT NOT NULL,\n",
    "            \"wBush_RNASeqset2_201816427.01\" TEXT NOT NULL,\n",
    "            \"wBush_RNASeqset2_201816428.01\" TEXT NOT NULL,\n",
    "            \"wBush_RNASeqset2_201816429.01\" TEXT NOT NULL,\n",
    "            \"wBush_RNASeqset2_201816430.01\" TEXT NOT NULL,\n",
    "            \"wBush_RNASeqset2_201816431.01\" TEXT NOT NULL,\n",
    "            \"wBush_RNASeqset2_201816432.01\" TEXT NOT NULL,\n",
    "            \"wBush_RNASeqset2_201816433.01\" TEXT NOT NULL,\n",
    "            \"wBush_RNASeqset2_201816434.01\" TEXT NOT NULL,\n",
    "            \"wBush_RNASeqset2_201816435.01\" TEXT NOT NULL,\n",
    "            \"wBush_RNASeqset2_201816436.01\" TEXT NOT NULL,\n",
    "            \"wBush_RNASeqset2_201816437.01\" TEXT NOT NULL,\n",
    "            \"wBush_RNASeqset2_201816438.01\" TEXT NOT NULL,\n",
    "            \"wBush_RNASeqset2_201816439.01\" TEXT NOT NULL,\n",
    "            \"wBush_RNASeqset2_201816440.01\" TEXT NOT NULL\n",
    "        )\n",
    "        \n",
    "        \"\"\")\n",
    "    conn = None\n",
    "    try:\n",
    "        # read the connection parameters\n",
    "        params = my_config()\n",
    "        # connect to the PostgreSQL server\n",
    "        conn = pg.connect(**params)\n",
    "        cur = conn.cursor()\n",
    "        # create table one by one\n",
    "        for command in commands:\n",
    "            cur.execute(command)\n",
    "        # close communication with the PostgreSQL database server\n",
    "        cur.close()\n",
    "        # commit the changes\n",
    "        conn.commit()\n",
    "    except (Exception, pg.DatabaseError) as error:\n",
    "        print(error)\n",
    "    finally:\n",
    "        if conn is not None:\n",
    "            conn.close()\n",
    "\n",
    "\n",
    "if __name__ == '__main__':\n",
    "    create_tables()"
   ]
  },
  {
   "cell_type": "code",
   "execution_count": 30,
   "metadata": {},
   "outputs": [
    {
     "name": "stdout",
     "output_type": "stream",
     "text": [
      "/storage/atac_data/original_data/wBush_RNA_ATAC_fastqs/ATACseq_set2/peak_calling/cleaned_bamfiles_peak_calling/OG_HMM_Peak_Calling_Out\n"
     ]
    }
   ],
   "source": [
    "%cd /storage/atac_data/original_data/wBush_RNA_ATAC_fastqs/ATACseq_set2/peak_calling/cleaned_bamfiles_peak_calling/OG_HMM_Peak_Calling_Out"
   ]
  },
  {
   "cell_type": "markdown",
   "metadata": {},
   "source": [
    "I have now set up all the tables in the PQHS-451 database. I will now load all of the peaks files into their respective tables."
   ]
  },
  {
   "cell_type": "code",
   "execution_count": 31,
   "metadata": {},
   "outputs": [],
   "source": [
    "counter = 0 #Counter that I will use to index the names list\n",
    "path = \"/storage/atac_data/original_data/wBush_RNA_ATAC_fastqs/ATACseq_set2/peak_calling/cleaned_bamfiles_peak_calling/OG_HMM_Peak_Calling_Out/*.gappedPeak\"\n",
    "table_names = ['wBush_ATACseqset2_201816338_01_S_6_1_peaks', \n",
    "               'wBush_ATACseqset2_201816339_01_S_6_1_peaks',\n",
    "              'wBush_ATACseqset2_201816340_01_S_6_1_peaks',\n",
    "              'wBush_ATACseqset2_201816341_01_S_6_1_peaks',\n",
    "              'wBush_ATACseqset2_201816342_01_S_6_1_peaks',\n",
    "              'wBush_ATACseqset2_201816343_01_S_6_1_peaks',\n",
    "              'wBush_ATACseqset2_201816344_01_S_6_1_peaks',\n",
    "              'wBush_ATACseqset2_201816345_01_S_6_1_peaks',\n",
    "              'wBush_ATACseqset2_201816346_01_S_6_1_peaks',\n",
    "              'wBush_ATACseqset2_201816347_01_S_6_1_peaks',\n",
    "              'wBush_ATACseqset2_201816348_01_S_6_1_peaks',\n",
    "              'wBush_ATACseqset2_201816349_01_S_6_1_peaks',\n",
    "              'wBush_ATACseqset2_201816350_01_S_6_1_peaks',\n",
    "              'wBush_ATACseqset2_201816352_01_S_6_1_peaks'] #Hard-coded, unfortunately.\n",
    "\n",
    "for fname in glob.glob(path):\n",
    "    with open(fname, 'r') as peaks_file:\n",
    "        params = my_config()\n",
    "        conn = pg.connect(**params)\n",
    "        cur = conn.cursor()\n",
    "        cur.copy_from(peaks_file, table_names[counter], sep = \"\\t\")\n",
    "        counter += 1\n",
    "    conn.commit()\n"
   ]
  },
  {
   "cell_type": "code",
   "execution_count": 32,
   "metadata": {},
   "outputs": [
    {
     "name": "stdout",
     "output_type": "stream",
     "text": [
      "/storage/atac_data/original_data/wBush_RNA_ATAC_fastqs/RNAseq_processed_both-sets\n"
     ]
    }
   ],
   "source": [
    "%cd /storage/atac_data/original_data/wBush_RNA_ATAC_fastqs/RNAseq_processed_both-sets"
   ]
  },
  {
   "cell_type": "code",
   "execution_count": 33,
   "metadata": {},
   "outputs": [],
   "source": [
    "path = \"/storage/atac_data/original_data/wBush_RNA_ATAC_fastqs/RNAseq_processed_both-sets/counts.txt\"\n",
    "table_name = ['RNAseq_Counts']\n",
    "\n",
    "for fname in glob.glob(path):\n",
    "    with open(fname, 'r') as counts_file:\n",
    "        params = my_config()\n",
    "        conn = pg.connect(**params)\n",
    "        cur = conn.cursor()\n",
    "        cur.copy_from(counts_file, table_name[0])\n",
    "    conn.commit()"
   ]
  },
  {
   "cell_type": "code",
   "execution_count": null,
   "metadata": {},
   "outputs": [],
   "source": []
  }
 ],
 "metadata": {
  "kernelspec": {
   "display_name": "Python 3",
   "language": "python",
   "name": "python3"
  },
  "language_info": {
   "codemirror_mode": {
    "name": "ipython",
    "version": 3
   },
   "file_extension": ".py",
   "mimetype": "text/x-python",
   "name": "python",
   "nbconvert_exporter": "python",
   "pygments_lexer": "ipython3",
   "version": "3.7.6"
  }
 },
 "nbformat": 4,
 "nbformat_minor": 2
}
